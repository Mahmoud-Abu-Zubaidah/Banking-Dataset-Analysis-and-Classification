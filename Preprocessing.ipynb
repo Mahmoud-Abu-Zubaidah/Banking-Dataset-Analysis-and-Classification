{
 "cells": [
  {
   "cell_type": "code",
   "execution_count": 4,
   "id": "6a3391f4",
   "metadata": {},
   "outputs": [],
   "source": [
    "import pandas as pd\n",
    "import numpy as np\n",
    "import matplotlib.pyplot as plt\n",
    "import seaborn as sns \n",
    "\n",
    "import warnings \n",
    "warnings.filterwarnings(\"ignore\")"
   ]
  },
  {
   "cell_type": "code",
   "execution_count": 5,
   "id": "791fa975",
   "metadata": {},
   "outputs": [
    {
     "data": {
      "text/html": [
       "<div>\n",
       "<style scoped>\n",
       "    .dataframe tbody tr th:only-of-type {\n",
       "        vertical-align: middle;\n",
       "    }\n",
       "\n",
       "    .dataframe tbody tr th {\n",
       "        vertical-align: top;\n",
       "    }\n",
       "\n",
       "    .dataframe thead th {\n",
       "        text-align: right;\n",
       "    }\n",
       "</style>\n",
       "<table border=\"1\" class=\"dataframe\">\n",
       "  <thead>\n",
       "    <tr style=\"text-align: right;\">\n",
       "      <th></th>\n",
       "      <th>id</th>\n",
       "      <th>age</th>\n",
       "      <th>job</th>\n",
       "      <th>marital</th>\n",
       "      <th>education</th>\n",
       "      <th>default</th>\n",
       "      <th>balance</th>\n",
       "      <th>housing</th>\n",
       "      <th>loan</th>\n",
       "      <th>contact</th>\n",
       "      <th>day</th>\n",
       "      <th>month</th>\n",
       "      <th>duration</th>\n",
       "      <th>campaign</th>\n",
       "      <th>pdays</th>\n",
       "      <th>previous</th>\n",
       "      <th>poutcome</th>\n",
       "      <th>Target</th>\n",
       "    </tr>\n",
       "  </thead>\n",
       "  <tbody>\n",
       "    <tr>\n",
       "      <th>56963</th>\n",
       "      <td>31963</td>\n",
       "      <td>47</td>\n",
       "      <td>blue-collar</td>\n",
       "      <td>married</td>\n",
       "      <td>basic.9y</td>\n",
       "      <td>no</td>\n",
       "      <td>NaN</td>\n",
       "      <td>no</td>\n",
       "      <td>yes</td>\n",
       "      <td>cellular</td>\n",
       "      <td>apr</td>\n",
       "      <td>fri</td>\n",
       "      <td>583</td>\n",
       "      <td>2</td>\n",
       "      <td>999</td>\n",
       "      <td>1</td>\n",
       "      <td>failure</td>\n",
       "      <td>no</td>\n",
       "    </tr>\n",
       "    <tr>\n",
       "      <th>31753</th>\n",
       "      <td>21378</td>\n",
       "      <td>48</td>\n",
       "      <td>management</td>\n",
       "      <td>divorced</td>\n",
       "      <td>tertiary</td>\n",
       "      <td>no</td>\n",
       "      <td>351.0</td>\n",
       "      <td>yes</td>\n",
       "      <td>no</td>\n",
       "      <td>cellular</td>\n",
       "      <td>7</td>\n",
       "      <td>apr</td>\n",
       "      <td>725</td>\n",
       "      <td>3</td>\n",
       "      <td>-1</td>\n",
       "      <td>0</td>\n",
       "      <td>unknown</td>\n",
       "      <td>no</td>\n",
       "    </tr>\n",
       "    <tr>\n",
       "      <th>60854</th>\n",
       "      <td>17084</td>\n",
       "      <td>38</td>\n",
       "      <td>technician</td>\n",
       "      <td>single</td>\n",
       "      <td>high.school</td>\n",
       "      <td>no</td>\n",
       "      <td>NaN</td>\n",
       "      <td>no</td>\n",
       "      <td>no</td>\n",
       "      <td>cellular</td>\n",
       "      <td>aug</td>\n",
       "      <td>wed</td>\n",
       "      <td>74</td>\n",
       "      <td>2</td>\n",
       "      <td>999</td>\n",
       "      <td>0</td>\n",
       "      <td>nonexistent</td>\n",
       "      <td>no</td>\n",
       "    </tr>\n",
       "    <tr>\n",
       "      <th>34207</th>\n",
       "      <td>81693</td>\n",
       "      <td>50</td>\n",
       "      <td>management</td>\n",
       "      <td>divorced</td>\n",
       "      <td>tertiary</td>\n",
       "      <td>no</td>\n",
       "      <td>1270.0</td>\n",
       "      <td>yes</td>\n",
       "      <td>no</td>\n",
       "      <td>cellular</td>\n",
       "      <td>4</td>\n",
       "      <td>may</td>\n",
       "      <td>24</td>\n",
       "      <td>3</td>\n",
       "      <td>-1</td>\n",
       "      <td>0</td>\n",
       "      <td>unknown</td>\n",
       "      <td>no</td>\n",
       "    </tr>\n",
       "    <tr>\n",
       "      <th>73066</th>\n",
       "      <td>63978</td>\n",
       "      <td>54</td>\n",
       "      <td>self-employed</td>\n",
       "      <td>married</td>\n",
       "      <td>high.school</td>\n",
       "      <td>no</td>\n",
       "      <td>NaN</td>\n",
       "      <td>yes</td>\n",
       "      <td>yes</td>\n",
       "      <td>cellular</td>\n",
       "      <td>aug</td>\n",
       "      <td>thu</td>\n",
       "      <td>904</td>\n",
       "      <td>3</td>\n",
       "      <td>999</td>\n",
       "      <td>0</td>\n",
       "      <td>nonexistent</td>\n",
       "      <td>yes</td>\n",
       "    </tr>\n",
       "  </tbody>\n",
       "</table>\n",
       "</div>"
      ],
      "text/plain": [
       "          id  age            job   marital    education default  balance  \\\n",
       "56963  31963   47    blue-collar   married     basic.9y      no      NaN   \n",
       "31753  21378   48     management  divorced     tertiary      no    351.0   \n",
       "60854  17084   38     technician    single  high.school      no      NaN   \n",
       "34207  81693   50     management  divorced     tertiary      no   1270.0   \n",
       "73066  63978   54  self-employed   married  high.school      no      NaN   \n",
       "\n",
       "      housing loan   contact  day month  duration  campaign  pdays  previous  \\\n",
       "56963      no  yes  cellular  apr   fri       583         2    999         1   \n",
       "31753     yes   no  cellular    7   apr       725         3     -1         0   \n",
       "60854      no   no  cellular  aug   wed        74         2    999         0   \n",
       "34207     yes   no  cellular    4   may        24         3     -1         0   \n",
       "73066     yes  yes  cellular  aug   thu       904         3    999         0   \n",
       "\n",
       "          poutcome Target  \n",
       "56963      failure     no  \n",
       "31753      unknown     no  \n",
       "60854  nonexistent     no  \n",
       "34207      unknown     no  \n",
       "73066  nonexistent    yes  "
      ]
     },
     "execution_count": 5,
     "metadata": {},
     "output_type": "execute_result"
    }
   ],
   "source": [
    "train = pd.read_csv(\"Train-Set.csv\", index_col=0)\n",
    "train.head()\n"
   ]
  },
  {
   "cell_type": "code",
   "execution_count": 6,
   "id": "776840f7",
   "metadata": {},
   "outputs": [
    {
     "data": {
      "text/html": [
       "<div>\n",
       "<style scoped>\n",
       "    .dataframe tbody tr th:only-of-type {\n",
       "        vertical-align: middle;\n",
       "    }\n",
       "\n",
       "    .dataframe tbody tr th {\n",
       "        vertical-align: top;\n",
       "    }\n",
       "\n",
       "    .dataframe thead th {\n",
       "        text-align: right;\n",
       "    }\n",
       "</style>\n",
       "<table border=\"1\" class=\"dataframe\">\n",
       "  <thead>\n",
       "    <tr style=\"text-align: right;\">\n",
       "      <th></th>\n",
       "      <th>id</th>\n",
       "      <th>age</th>\n",
       "      <th>job</th>\n",
       "      <th>marital</th>\n",
       "      <th>education</th>\n",
       "      <th>default</th>\n",
       "      <th>balance</th>\n",
       "      <th>housing</th>\n",
       "      <th>loan</th>\n",
       "      <th>contact</th>\n",
       "      <th>day</th>\n",
       "      <th>month</th>\n",
       "      <th>duration</th>\n",
       "      <th>campaign</th>\n",
       "      <th>pdays</th>\n",
       "      <th>previous</th>\n",
       "      <th>poutcome</th>\n",
       "    </tr>\n",
       "  </thead>\n",
       "  <tbody>\n",
       "    <tr>\n",
       "      <th>45247</th>\n",
       "      <td>74249</td>\n",
       "      <td>34</td>\n",
       "      <td>admin.</td>\n",
       "      <td>married</td>\n",
       "      <td>university.degree</td>\n",
       "      <td>no</td>\n",
       "      <td>NaN</td>\n",
       "      <td>no</td>\n",
       "      <td>no</td>\n",
       "      <td>cellular</td>\n",
       "      <td>jul</td>\n",
       "      <td>wed</td>\n",
       "      <td>266</td>\n",
       "      <td>1</td>\n",
       "      <td>999</td>\n",
       "      <td>0</td>\n",
       "      <td>nonexistent</td>\n",
       "    </tr>\n",
       "    <tr>\n",
       "      <th>19894</th>\n",
       "      <td>35779</td>\n",
       "      <td>31</td>\n",
       "      <td>management</td>\n",
       "      <td>single</td>\n",
       "      <td>tertiary</td>\n",
       "      <td>no</td>\n",
       "      <td>165.0</td>\n",
       "      <td>no</td>\n",
       "      <td>yes</td>\n",
       "      <td>cellular</td>\n",
       "      <td>8</td>\n",
       "      <td>aug</td>\n",
       "      <td>523</td>\n",
       "      <td>2</td>\n",
       "      <td>-1</td>\n",
       "      <td>0</td>\n",
       "      <td>unknown</td>\n",
       "    </tr>\n",
       "    <tr>\n",
       "      <th>70048</th>\n",
       "      <td>66769</td>\n",
       "      <td>28</td>\n",
       "      <td>blue-collar</td>\n",
       "      <td>single</td>\n",
       "      <td>basic.9y</td>\n",
       "      <td>no</td>\n",
       "      <td>NaN</td>\n",
       "      <td>no</td>\n",
       "      <td>no</td>\n",
       "      <td>telephone</td>\n",
       "      <td>may</td>\n",
       "      <td>fri</td>\n",
       "      <td>489</td>\n",
       "      <td>2</td>\n",
       "      <td>999</td>\n",
       "      <td>0</td>\n",
       "      <td>nonexistent</td>\n",
       "    </tr>\n",
       "    <tr>\n",
       "      <th>24241</th>\n",
       "      <td>27888</td>\n",
       "      <td>57</td>\n",
       "      <td>admin.</td>\n",
       "      <td>divorced</td>\n",
       "      <td>secondary</td>\n",
       "      <td>no</td>\n",
       "      <td>1878.0</td>\n",
       "      <td>yes</td>\n",
       "      <td>no</td>\n",
       "      <td>cellular</td>\n",
       "      <td>17</td>\n",
       "      <td>nov</td>\n",
       "      <td>219</td>\n",
       "      <td>1</td>\n",
       "      <td>-1</td>\n",
       "      <td>0</td>\n",
       "      <td>unknown</td>\n",
       "    </tr>\n",
       "    <tr>\n",
       "      <th>20495</th>\n",
       "      <td>63306</td>\n",
       "      <td>55</td>\n",
       "      <td>management</td>\n",
       "      <td>divorced</td>\n",
       "      <td>tertiary</td>\n",
       "      <td>no</td>\n",
       "      <td>277.0</td>\n",
       "      <td>no</td>\n",
       "      <td>no</td>\n",
       "      <td>cellular</td>\n",
       "      <td>12</td>\n",
       "      <td>aug</td>\n",
       "      <td>101</td>\n",
       "      <td>3</td>\n",
       "      <td>-1</td>\n",
       "      <td>0</td>\n",
       "      <td>unknown</td>\n",
       "    </tr>\n",
       "  </tbody>\n",
       "</table>\n",
       "</div>"
      ],
      "text/plain": [
       "          id  age          job   marital          education default  balance  \\\n",
       "45247  74249   34       admin.   married  university.degree      no      NaN   \n",
       "19894  35779   31   management    single           tertiary      no    165.0   \n",
       "70048  66769   28  blue-collar    single           basic.9y      no      NaN   \n",
       "24241  27888   57       admin.  divorced          secondary      no   1878.0   \n",
       "20495  63306   55   management  divorced           tertiary      no    277.0   \n",
       "\n",
       "      housing loan    contact  day month  duration  campaign  pdays  previous  \\\n",
       "45247      no   no   cellular  jul   wed       266         1    999         0   \n",
       "19894      no  yes   cellular    8   aug       523         2     -1         0   \n",
       "70048      no   no  telephone  may   fri       489         2    999         0   \n",
       "24241     yes   no   cellular   17   nov       219         1     -1         0   \n",
       "20495      no   no   cellular   12   aug       101         3     -1         0   \n",
       "\n",
       "          poutcome  \n",
       "45247  nonexistent  \n",
       "19894      unknown  \n",
       "70048  nonexistent  \n",
       "24241      unknown  \n",
       "20495      unknown  "
      ]
     },
     "execution_count": 6,
     "metadata": {},
     "output_type": "execute_result"
    }
   ],
   "source": [
    "test = pd.read_csv(\"Test-Set.csv\", index_col=0)\n",
    "test.head()"
   ]
  },
  {
   "cell_type": "code",
   "execution_count": 7,
   "id": "a0f0bad9",
   "metadata": {},
   "outputs": [],
   "source": [
    "train.drop('id',axis=1,inplace=True)"
   ]
  },
  {
   "cell_type": "code",
   "execution_count": 8,
   "id": "331c9295",
   "metadata": {},
   "outputs": [
    {
     "data": {
      "text/plain": [
       "(54712, 17)"
      ]
     },
     "execution_count": 8,
     "metadata": {},
     "output_type": "execute_result"
    }
   ],
   "source": [
    "train.shape"
   ]
  },
  {
   "cell_type": "markdown",
   "id": "d5bd4857",
   "metadata": {},
   "source": [
    "# Data Wrangling\n",
    "\n",
    "## Education:\n",
    "\n",
    "1- Primary Education: Ages 6 to 12\n",
    "\n",
    "2-Secondary Education:\n",
    "\n",
    "    -Middle School or Junior High School: Ages 12 to 15.\n",
    "    -High School: Ages 15 to 18.\n",
    "\n",
    "3-Tertiary Education:\n",
    "\n",
    "    -College or University: Ages 18 and above."
   ]
  },
  {
   "cell_type": "code",
   "execution_count": 9,
   "id": "1e2a7091",
   "metadata": {},
   "outputs": [],
   "source": [
    "train.loc[train['education'] == 'professional.course', 'education'] = 'tertiary'\n",
    "train.loc[train['education'] == 'basic.6y', 'education'] = 'secondary'\n",
    "train.loc[train['education'] == 'basic.9y', 'education'] = 'secondary'\n",
    "train.loc[train['education'] == 'basic.4y', 'education'] = 'primary'\n",
    "train.loc[train['education'] == 'high.school', 'education'] = 'secondary'\n",
    "train.loc[train['education'] == 'university.degree', 'education'] = 'tertiary'\n",
    "\n",
    "#################################################################################\n",
    "\n",
    "test.loc[test['education'] == 'professional.course', 'education'] = 'tertiary'\n",
    "test.loc[test['education'] == 'basic.6y', 'education'] = 'secondary'\n",
    "test.loc[test['education'] == 'basic.9y', 'education'] = 'secondary'\n",
    "test.loc[test['education'] == 'basic.4y', 'education'] = 'primary'\n",
    "test.loc[test['education'] == 'high.school', 'education'] = 'secondary'\n",
    "test.loc[test['education'] == 'university.degree', 'education'] = 'tertiary'"
   ]
  },
  {
   "cell_type": "code",
   "execution_count": 10,
   "id": "74b398d2",
   "metadata": {},
   "outputs": [
    {
     "data": {
      "text/plain": [
       "secondary     26335\n",
       "tertiary      18979\n",
       "primary        7110\n",
       "unknown        2276\n",
       "illiterate       12\n",
       "Name: education, dtype: int64"
      ]
     },
     "execution_count": 10,
     "metadata": {},
     "output_type": "execute_result"
    }
   ],
   "source": [
    "train.education.value_counts()"
   ]
  },
  {
   "cell_type": "code",
   "execution_count": 11,
   "id": "a1db0d46",
   "metadata": {},
   "outputs": [
    {
     "data": {
      "text/plain": [
       "<function matplotlib.pyplot.show(close=None, block=None)>"
      ]
     },
     "execution_count": 11,
     "metadata": {},
     "output_type": "execute_result"
    },
    {
     "data": {
      "image/png": "[encoded data removed]",
      "text/plain": [
       "<Figure size 720x360 with 1 Axes>"
      ]
     },
     "metadata": {
      "needs_background": "light"
     },
     "output_type": "display_data"
    }
   ],
   "source": [
    "plt.figure(figsize=(10,5))\n",
    "sns.countplot(x=train['education'])\n",
    "plt.xlabel(\"Education\")\n",
    "plt.ylabel(\"count\")\n",
    "plt.title(\"Education frequency\")\n",
    "plt.xticks(rotation=90)\n",
    "plt.show"
   ]
  },
  {
   "cell_type": "markdown",
   "id": "3d83e91a",
   "metadata": {},
   "source": [
    "## poutcome"
   ]
  },
  {
   "cell_type": "code",
   "execution_count": 12,
   "id": "9be83919",
   "metadata": {},
   "outputs": [],
   "source": [
    "train.loc[train['poutcome'] == 'other', 'poutcome'] = 'unknown'\n",
    "\n",
    "#########################################################################\n",
    "\n",
    "test.loc[test['poutcome'] == 'other', 'poutcome'] = 'unknown'"
   ]
  },
  {
   "cell_type": "code",
   "execution_count": 13,
   "id": "2cf25709",
   "metadata": {},
   "outputs": [
    {
     "data": {
      "text/plain": [
       "<function matplotlib.pyplot.show(close=None, block=None)>"
      ]
     },
     "execution_count": 13,
     "metadata": {},
     "output_type": "execute_result"
    },
    {
     "data": {
      "image/png": "[encoded data removed]",
      "text/plain": [
       "<Figure size 720x360 with 1 Axes>"
      ]
     },
     "metadata": {
      "needs_background": "light"
     },
     "output_type": "display_data"
    }
   ],
   "source": [
    "plt.figure(figsize=(10,5))\n",
    "sns.countplot(x=train['poutcome'])\n",
    "plt.xlabel(\"Poutcome\")\n",
    "plt.ylabel(\"count\")\n",
    "plt.title(\"Poutcome frequency\")\n",
    "plt.xticks(rotation=90)\n",
    "plt.show"
   ]
  },
  {
   "cell_type": "markdown",
   "id": "e335fe66",
   "metadata": {},
   "source": [
    "# Missing values:\n",
    "\n",
    "## Housing & loan:"
   ]
  },
  {
   "cell_type": "code",
   "execution_count": 14,
   "id": "2effbaa1",
   "metadata": {},
   "outputs": [
    {
     "name": "stdout",
     "output_type": "stream",
     "text": [
      "housing values: yes        29666\n",
      "no         24503\n",
      "unknown      543\n",
      "Name: housing, dtype: int64\n",
      "loan values: no         45564\n",
      "yes         8605\n",
      "unknown      543\n",
      "Name: loan, dtype: int64\n"
     ]
    }
   ],
   "source": [
    "print(\"housing values:\",train.housing.value_counts())\n",
    "print(\"loan values:\",train.loan.value_counts())"
   ]
  },
  {
   "cell_type": "code",
   "execution_count": 15,
   "id": "f686ab6e",
   "metadata": {},
   "outputs": [
    {
     "data": {
      "text/plain": [
       "(543, 17)"
      ]
     },
     "execution_count": 15,
     "metadata": {},
     "output_type": "execute_result"
    }
   ],
   "source": [
    "filtered=train.loc[(train['housing']=='unknown') & (train['loan']=='unknown')]\n",
    "filtered.shape"
   ]
  },
  {
   "cell_type": "markdown",
   "id": "ed879f43",
   "metadata": {},
   "source": [
    "**that means the unknown cells in housing is the unknown cells in loan.**"
   ]
  },
  {
   "cell_type": "markdown",
   "id": "8c890dfc",
   "metadata": {},
   "source": [
    "## Feature Engineering:\n",
    "\n",
    "I do not care about if the customer has housing loan or other I am care about how many loan. so we can make feature engineering between two columns housing and loan as following:\n",
    "\n",
    "1- if housing = yes and loan= no *or* housing = no and loan= yes *or* housing = yes and loan= unkown *or* housing = unknown and loan= yes  then number of loans are 1.\n",
    "\n",
    "2- if housing = no and loan= no *or* housing = unknown and loan= no *or* housing = no and loan= unknown then number of loans are 0.\n",
    "\n",
    "3- if housing = yes and loan= yes then number of loans are 2.\n",
    "\n",
    "4- if housing = unkown and loan = unknown then number of loans are -1"
   ]
  },
  {
   "cell_type": "code",
   "execution_count": 16,
   "id": "22c4ca3b",
   "metadata": {},
   "outputs": [],
   "source": [
    "train.insert(8, 'number_of_loan', 0)\n",
    "##################################################\n",
    "test.insert(8, 'number_of_loan', 0)"
   ]
  },
  {
   "cell_type": "code",
   "execution_count": 17,
   "id": "97fbf3ce",
   "metadata": {},
   "outputs": [],
   "source": [
    "train.loc[(train['housing'] == 'yes') & (train['loan'] == 'yes'), 'number_of_loan'] = 2\n",
    "train.loc[(train['housing'] == 'yes') & (train['loan'] == 'no'), 'number_of_loan'] = 1\n",
    "train.loc[(train['housing'] == 'yes') & (train['loan'] == 'unknown'), 'number_of_loan'] = 1\n",
    "train.loc[(train['housing'] == 'no') & (train['loan'] == 'yes'), 'number_of_loan'] = 1\n",
    "train.loc[(train['housing'] == 'no') & (train['loan'] == 'no'), 'number_of_loan'] = 0\n",
    "train.loc[(train['housing'] == 'no') & (train['loan'] == 'unknown'), 'number_of_loan'] = 0\n",
    "train.loc[(train['housing'] == 'yes') & (train['loan'] == 'unknown'), 'number_of_loan'] =1\n",
    "train.loc[(train['housing'] == 'unknown') & (train['loan'] == 'no'), 'number_of_loan'] =0\n",
    "train.loc[(train['housing'] == 'unknown') & (train['loan'] == 'unknown'), 'number_of_loan'] =-1\n",
    "\n",
    "##############################################################################################################\n",
    "\n",
    "test.loc[(test['housing'] == 'yes') & (test['loan'] == 'yes'), 'number_of_loan'] = 2\n",
    "test.loc[(test['housing'] == 'yes') & (test['loan'] == 'no'), 'number_of_loan'] = 1\n",
    "test.loc[(test['housing'] == 'yes') & (test['loan'] == 'unknown'), 'number_of_loan'] = 1\n",
    "test.loc[(test['housing'] == 'no') & (test['loan'] == 'yes'), 'number_of_loan'] = 1\n",
    "test.loc[(test['housing'] == 'no') & (test['loan'] == 'no'), 'number_of_loan'] = 0\n",
    "test.loc[(test['housing'] == 'no') & (test['loan'] == 'unknown'), 'number_of_loan'] = 0\n",
    "test.loc[(test['housing'] == 'yes') & (test['loan'] == 'unknown'), 'number_of_loan'] =1\n",
    "test.loc[(test['housing'] == 'unknown') & (test['loan'] == 'no'), 'number_of_loan'] =0\n",
    "test.loc[(test['housing'] == 'unknown') & (test['loan'] == 'unknown'), 'number_of_loan'] =-1"
   ]
  },
  {
   "cell_type": "code",
   "execution_count": 18,
   "id": "4804416c",
   "metadata": {},
   "outputs": [
    {
     "data": {
      "text/plain": [
       "<function matplotlib.pyplot.show(close=None, block=None)>"
      ]
     },
     "execution_count": 18,
     "metadata": {},
     "output_type": "execute_result"
    },
    {
     "data": {
      "image/png": "[encoded data removed]",
      "text/plain": [
       "<Figure size 720x360 with 1 Axes>"
      ]
     },
     "metadata": {
      "needs_background": "light"
     },
     "output_type": "display_data"
    }
   ],
   "source": [
    "plt.figure(figsize=(10,5))\n",
    "sns.countplot(x=train['number_of_loan'])\n",
    "plt.xlabel(\"number_of_loan\")\n",
    "plt.ylabel(\"count\")\n",
    "plt.title(\"number_of_loan frequency\")\n",
    "plt.xticks(rotation=90)\n",
    "plt.show"
   ]
  },
  {
   "cell_type": "markdown",
   "id": "1da1d6ee",
   "metadata": {},
   "source": [
    "**what is the relation between number of loan and the balance????**"
   ]
  },
  {
   "cell_type": "code",
   "execution_count": 19,
   "id": "77578fce",
   "metadata": {},
   "outputs": [
    {
     "data": {
      "text/html": [
       "<div>\n",
       "<style scoped>\n",
       "    .dataframe tbody tr th:only-of-type {\n",
       "        vertical-align: middle;\n",
       "    }\n",
       "\n",
       "    .dataframe tbody tr th {\n",
       "        vertical-align: top;\n",
       "    }\n",
       "\n",
       "    .dataframe thead th {\n",
       "        text-align: right;\n",
       "    }\n",
       "</style>\n",
       "<table border=\"1\" class=\"dataframe\">\n",
       "  <thead>\n",
       "    <tr style=\"text-align: right;\">\n",
       "      <th></th>\n",
       "      <th>balance</th>\n",
       "    </tr>\n",
       "  </thead>\n",
       "  <tbody>\n",
       "    <tr>\n",
       "      <th>73308</th>\n",
       "      <td>NaN</td>\n",
       "    </tr>\n",
       "    <tr>\n",
       "      <th>64752</th>\n",
       "      <td>NaN</td>\n",
       "    </tr>\n",
       "    <tr>\n",
       "      <th>63907</th>\n",
       "      <td>NaN</td>\n",
       "    </tr>\n",
       "    <tr>\n",
       "      <th>51427</th>\n",
       "      <td>NaN</td>\n",
       "    </tr>\n",
       "    <tr>\n",
       "      <th>55932</th>\n",
       "      <td>NaN</td>\n",
       "    </tr>\n",
       "    <tr>\n",
       "      <th>...</th>\n",
       "      <td>...</td>\n",
       "    </tr>\n",
       "    <tr>\n",
       "      <th>71007</th>\n",
       "      <td>NaN</td>\n",
       "    </tr>\n",
       "    <tr>\n",
       "      <th>62997</th>\n",
       "      <td>NaN</td>\n",
       "    </tr>\n",
       "    <tr>\n",
       "      <th>65323</th>\n",
       "      <td>NaN</td>\n",
       "    </tr>\n",
       "    <tr>\n",
       "      <th>58530</th>\n",
       "      <td>NaN</td>\n",
       "    </tr>\n",
       "    <tr>\n",
       "      <th>64570</th>\n",
       "      <td>NaN</td>\n",
       "    </tr>\n",
       "  </tbody>\n",
       "</table>\n",
       "<p>543 rows × 1 columns</p>\n",
       "</div>"
      ],
      "text/plain": [
       "       balance\n",
       "73308      NaN\n",
       "64752      NaN\n",
       "63907      NaN\n",
       "51427      NaN\n",
       "55932      NaN\n",
       "...        ...\n",
       "71007      NaN\n",
       "62997      NaN\n",
       "65323      NaN\n",
       "58530      NaN\n",
       "64570      NaN\n",
       "\n",
       "[543 rows x 1 columns]"
      ]
     },
     "execution_count": 19,
     "metadata": {},
     "output_type": "execute_result"
    }
   ],
   "source": [
    "train.loc[train['number_of_loan']==-1,['balance']]"
   ]
  },
  {
   "cell_type": "markdown",
   "id": "21884305",
   "metadata": {},
   "source": [
    "## Day"
   ]
  },
  {
   "cell_type": "code",
   "execution_count": 20,
   "id": "51abc3c1",
   "metadata": {},
   "outputs": [
    {
     "name": "stdout",
     "output_type": "stream",
     "text": [
      "thu    417\n",
      "mon    376\n",
      "fri    324\n",
      "wed    178\n",
      "tue    130\n",
      "Name: month, dtype: int64\n"
     ]
    }
   ],
   "source": [
    "filtered_train = train[train['day'] == 'apr']\n",
    "print(filtered_train['month'].value_counts())"
   ]
  },
  {
   "cell_type": "code",
   "execution_count": 21,
   "id": "e6e4a845",
   "metadata": {},
   "outputs": [
    {
     "name": "stdout",
     "output_type": "stream",
     "text": [
      "thu    733\n",
      "tue    700\n",
      "wed    679\n",
      "mon    663\n",
      "fri    619\n",
      "Name: month, dtype: int64\n"
     ]
    }
   ],
   "source": [
    "filtered_train = train[train['day'] == 'aug']\n",
    "print(filtered_train['month'].value_counts())"
   ]
  },
  {
   "cell_type": "code",
   "execution_count": 22,
   "id": "f2489463",
   "metadata": {},
   "outputs": [
    {
     "name": "stdout",
     "output_type": "stream",
     "text": [
      "wed    1598\n",
      "fri    1586\n",
      "tue    1561\n",
      "mon    1502\n",
      "thu    1389\n",
      "Name: month, dtype: int64\n"
     ]
    }
   ],
   "source": [
    "filtered_train = train[train['day'] == 'may']\n",
    "print(filtered_train['month'].value_counts())"
   ]
  },
  {
   "cell_type": "code",
   "execution_count": 23,
   "id": "ef1730e8",
   "metadata": {},
   "outputs": [
    {
     "name": "stdout",
     "output_type": "stream",
     "text": [
      "may    1586\n",
      "jun     653\n",
      "aug     619\n",
      "jul     577\n",
      "nov     428\n",
      "apr     324\n",
      "oct      77\n",
      "sep      70\n",
      "mar      46\n",
      "dec      13\n",
      "Name: day, dtype: int64\n"
     ]
    }
   ],
   "source": [
    "filtered_train = train[train['month'] == 'fri']\n",
    "print(filtered_train['day'].value_counts())"
   ]
  },
  {
   "cell_type": "code",
   "execution_count": 24,
   "id": "ca60ca6e",
   "metadata": {},
   "outputs": [
    {
     "name": "stdout",
     "output_type": "stream",
     "text": [
      "may    1502\n",
      "jul     853\n",
      "jun     695\n",
      "aug     663\n",
      "nov     415\n",
      "apr     376\n",
      "oct      76\n",
      "mar      70\n",
      "sep      47\n",
      "dec      31\n",
      "Name: day, dtype: int64\n"
     ]
    }
   ],
   "source": [
    "filtered_train = train[train['month'] == 'mon']\n",
    "print(filtered_train['day'].value_counts())"
   ]
  },
  {
   "cell_type": "code",
   "execution_count": 25,
   "id": "b69028c0",
   "metadata": {},
   "outputs": [],
   "source": [
    "day_month_train=pd.DataFrame(train.loc[:,['day','month']])\n",
    "day_month_test=pd.DataFrame(test.loc[:,['day','month']])\n",
    "\n",
    "train.loc[train['day'] == 'apr', 'day'] = day_month_train.loc[day_month_train['day'] == 'apr', 'month']\n",
    "train.loc[train['day'] == 'aug', 'day'] = day_month_train.loc[day_month_train['day'] == 'aug', 'month']\n",
    "train.loc[train['day'] == 'may', 'day'] = day_month_train.loc[day_month_train['day'] == 'may', 'month']\n",
    "train.loc[train['day'] == 'nov', 'day'] = day_month_train.loc[day_month_train['day'] == 'nov', 'month']\n",
    "train.loc[train['day'] == 'dec', 'day'] = day_month_train.loc[day_month_train['day'] == 'dec', 'month']\n",
    "train.loc[train['day'] == 'sep', 'day'] = day_month_train.loc[day_month_train['day'] == 'sep', 'month']\n",
    "train.loc[train['day'] == 'jul', 'day'] = day_month_train.loc[day_month_train['day'] == 'jul', 'month']\n",
    "train.loc[train['day'] == 'mar', 'day'] = day_month_train.loc[day_month_train['day'] == 'mar', 'month']\n",
    "train.loc[train['day'] == 'jun', 'day'] = day_month_train.loc[day_month_train['day'] == 'jun', 'month']\n",
    "train.loc[train['day'] == 'oct', 'day'] = day_month_train.loc[day_month_train['day'] == 'oct', 'month']\n",
    "\n",
    "#########################################################################################################\n",
    "\n",
    "test.loc[test['day'] == 'apr', 'day'] = day_month_test.loc[day_month_test['day'] == 'apr', 'month']\n",
    "test.loc[test['day'] == 'aug', 'day'] = day_month_test.loc[day_month_test['day'] == 'aug', 'month']\n",
    "test.loc[test['day'] == 'may', 'day'] = day_month_test.loc[day_month_test['day'] == 'may', 'month']\n",
    "test.loc[test['day'] == 'nov', 'day'] = day_month_test.loc[day_month_test['day'] == 'nov', 'month']\n",
    "test.loc[test['day'] == 'dec', 'day'] = day_month_test.loc[day_month_test['day'] == 'dec', 'month']\n",
    "test.loc[test['day'] == 'sep', 'day'] = day_month_test.loc[day_month_test['day'] == 'sep', 'month']\n",
    "test.loc[test['day'] == 'jul', 'day'] = day_month_test.loc[day_month_test['day'] == 'jul', 'month']\n",
    "test.loc[test['day'] == 'mar', 'day'] = day_month_test.loc[day_month_test['day'] == 'mar', 'month']\n",
    "test.loc[test['day'] == 'jun', 'day'] = day_month_test.loc[day_month_test['day'] == 'jun', 'month']\n",
    "test.loc[test['day'] == 'oct', 'day'] = day_month_test.loc[day_month_test['day'] == 'oct', 'month']"
   ]
  },
  {
   "cell_type": "code",
   "execution_count": 26,
   "id": "aa00c2cc",
   "metadata": {},
   "outputs": [
    {
     "data": {
      "text/plain": [
       "<function matplotlib.pyplot.show(close=None, block=None)>"
      ]
     },
     "execution_count": 26,
     "metadata": {},
     "output_type": "execute_result"
    },
    {
     "data": {
      "image/png": "[encoded data removed]",
      "text/plain": [
       "<Figure size 720x360 with 1 Axes>"
      ]
     },
     "metadata": {
      "needs_background": "light"
     },
     "output_type": "display_data"
    }
   ],
   "source": [
    "plt.figure(figsize=(10,5))\n",
    "sns.countplot(x=train['day'])\n",
    "plt.xlabel(\"Day\")\n",
    "plt.ylabel(\"count\")\n",
    "plt.title(\"Day frequency\")\n",
    "plt.xticks(rotation=90)\n",
    "plt.show"
   ]
  },
  {
   "cell_type": "markdown",
   "id": "5fc2f1c6",
   "metadata": {},
   "source": [
    "## Month"
   ]
  },
  {
   "cell_type": "code",
   "execution_count": 27,
   "id": "70fd5707",
   "metadata": {},
   "outputs": [],
   "source": [
    "train.loc[train['month'] == 'fri', 'month'] = day_month_train.loc[day_month_train['month'] == 'fri', 'day']\n",
    "train.loc[train['month'] == 'wed', 'month'] = day_month_train.loc[day_month_train['month'] == 'wed', 'day']\n",
    "train.loc[train['month'] == 'tue', 'month'] = day_month_train.loc[day_month_train['month'] == 'tue', 'day']\n",
    "train.loc[train['month'] == 'mon', 'month'] = day_month_train.loc[day_month_train['month'] == 'mon', 'day']\n",
    "train.loc[train['month'] == 'thu', 'month'] = day_month_train.loc[day_month_train['month'] == 'thu', 'day']\n",
    "\n",
    "\n",
    "#########################################################################################################\n",
    "\n",
    "test.loc[test['month'] == 'fri', 'month'] = day_month_test.loc[day_month_test['month'] == 'fri', 'day']\n",
    "test.loc[test['month'] == 'wed', 'month'] = day_month_test.loc[day_month_test['month'] == 'wed', 'day']\n",
    "test.loc[test['month'] == 'tue', 'month'] = day_month_test.loc[day_month_test['month'] == 'tue', 'day']\n",
    "test.loc[test['month'] == 'mon', 'month'] = day_month_test.loc[day_month_test['month'] == 'mon', 'day']\n",
    "test.loc[test['month'] == 'thu', 'month'] = day_month_test.loc[day_month_test['month'] == 'thu', 'day']\n"
   ]
  },
  {
   "cell_type": "code",
   "execution_count": 28,
   "id": "6f4f11e9",
   "metadata": {},
   "outputs": [
    {
     "data": {
      "text/plain": [
       "<function matplotlib.pyplot.show(close=None, block=None)>"
      ]
     },
     "execution_count": 28,
     "metadata": {},
     "output_type": "execute_result"
    },
    {
     "data": {
      "image/png": "[encoded data removed]",
      "text/plain": [
       "<Figure size 720x360 with 1 Axes>"
      ]
     },
     "metadata": {
      "needs_background": "light"
     },
     "output_type": "display_data"
    }
   ],
   "source": [
    "plt.figure(figsize=(10,5))\n",
    "sns.countplot(x=train['month'])\n",
    "plt.xlabel(\"Month\")\n",
    "plt.ylabel(\"count\")\n",
    "plt.title(\"Month frequency\")\n",
    "plt.xticks(rotation=90)\n",
    "plt.show"
   ]
  },
  {
   "cell_type": "markdown",
   "id": "24fb5c8f",
   "metadata": {},
   "source": [
    "## balance\n",
    "\n",
    "use KNNImputer to fill nan values in balance column."
   ]
  },
  {
   "cell_type": "code",
   "execution_count": 29,
   "id": "d0b19f54",
   "metadata": {},
   "outputs": [],
   "source": [
    "from sklearn.impute import KNNImputer\n",
    "\n",
    "train_imputed = train.copy()\n",
    "train_imputed.drop('Target', axis=1, inplace=True)\n",
    "\n",
    "# Initialize the KNNImputer with the number of neighbors (k) you want to consider.\n",
    "# The default value of k is 5.\n",
    "knn_imputer = KNNImputer(n_neighbors=5)\n",
    "\n",
    "# Impute the missing 'balance' values\n",
    "train_imputed['balance'] = knn_imputer.fit_transform(train[['balance']])\n",
    "\n",
    "# The KNNImputer returns an array, so we need to convert it back to a DataFrame\n",
    "# and assign the imputed values to the 'balance' column in the original DataFrame.\n",
    "train_imputed = pd.DataFrame(train_imputed, columns=train.columns)"
   ]
  },
  {
   "cell_type": "code",
   "execution_count": 30,
   "id": "4bf4116f",
   "metadata": {},
   "outputs": [
    {
     "data": {
      "image/png": "[encoded data removed]",
      "text/plain": [
       "<Figure size 792x360 with 2 Axes>"
      ]
     },
     "metadata": {
      "needs_background": "light"
     },
     "output_type": "display_data"
    }
   ],
   "source": [
    "fig, (ax1, ax2) = plt.subplots(1, 2, figsize=(11, 5))\n",
    "\n",
    "ax1.boxplot(x=train['balance'])\n",
    "ax1.set_title('Boxplot for balance')\n",
    "\n",
    "sns.distplot(train['balance'])\n",
    "ax2.set_title('Histogram for balance')\n",
    "\n",
    "# Add labels and titles\n",
    "fig.suptitle('Distribution of balance')\n",
    "ax1.set_ylabel('Value')\n",
    "ax2.set_ylabel('Frequency')\n",
    "plt.show()"
   ]
  },
  {
   "cell_type": "code",
   "execution_count": 31,
   "id": "620f23a3",
   "metadata": {},
   "outputs": [
    {
     "data": {
      "text/plain": [
       "<AxesSubplot: xlabel='balance'>"
      ]
     },
     "execution_count": 31,
     "metadata": {},
     "output_type": "execute_result"
    },
    {
     "data": {
      "image/png": "[encoded data removed]",
      "text/plain": [
       "<Figure size 576x360 with 1 Axes>"
      ]
     },
     "metadata": {
      "needs_background": "light"
     },
     "output_type": "display_data"
    }
   ],
   "source": [
    "plt.figure(figsize=(8, 5))\n",
    "sns.boxplot(x=train.balance)"
   ]
  },
  {
   "cell_type": "code",
   "execution_count": 32,
   "id": "d7b78ac0",
   "metadata": {},
   "outputs": [
    {
     "data": {
      "text/plain": [
       "Text(0.5, 1.0, 'Distribution of the balance based on the target')"
      ]
     },
     "execution_count": 32,
     "metadata": {},
     "output_type": "execute_result"
    },
    {
     "data": {
      "image/png": "[encoded data removed]",
      "text/plain": [
       "<Figure size 576x432 with 1 Axes>"
      ]
     },
     "metadata": {
      "needs_background": "light"
     },
     "output_type": "display_data"
    }
   ],
   "source": [
    "a4_dims = (8,6)\n",
    "fig, ax = plt.subplots(figsize=a4_dims)\n",
    "ax=sns.boxplot(data=train, y=\"balance\", x=\"Target\")\n",
    "ax.set_title(\"Distribution of the balance based on the target\")"
   ]
  },
  {
   "cell_type": "code",
   "execution_count": null,
   "id": "3d812e6f",
   "metadata": {},
   "outputs": [],
   "source": []
  }
 ],
 "metadata": {
  "kernelspec": {
   "display_name": "Python 3 (ipykernel)",
   "language": "python",
   "name": "python3"
  },
  "language_info": {
   "codemirror_mode": {
    "name": "ipython",
    "version": 3
   },
   "file_extension": ".py",
   "mimetype": "text/x-python",
   "name": "python",
   "nbconvert_exporter": "python",
   "pygments_lexer": "ipython3",
   "version": "3.9.7"
  }
 },
 "nbformat": 4,
 "nbformat_minor": 5
}
